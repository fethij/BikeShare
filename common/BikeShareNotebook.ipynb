{
 "cells": [
  {
   "cell_type": "code",
   "execution_count": 1,
   "outputs": [
    {
     "name": "stderr",
     "output_type": "stream",
     "text": [
      "Line_5.jupyter.kts (1:8 - 11) Unresolved reference: dev\n",
      "Line_5.jupyter.kts (2:16 - 26) Unresolved reference: coroutines\n",
      "Line_5.jupyter.kts (3:16 - 26) Unresolved reference: coroutines\n",
      "Line_5.jupyter.kts (4:16 - 26) Unresolved reference: coroutines\n",
      "Line_5.jupyter.kts (5:16 - 26) Unresolved reference: coroutines\n",
      "Line_5.jupyter.kts (8:1 - 12) Unresolved reference: runBlocking\n",
      "Line_5.jupyter.kts (9:22 - 41) Unresolved reference: CityBikesRepository"
     ]
    }
   ],
   "source": [
    "import dev.johnoreilly.common.remote.Station\n",
    "import kotlinx.coroutines.GlobalScope\n",
    "import kotlinx.coroutines.MainScope\n",
    "import kotlinx.coroutines.launch\n",
    "import kotlinx.coroutines.runBlocking\n",
    "%use dataframe\n",
    "\n",
    "runBlocking {   \n",
    "    val repository = CityBikesRepository()\n",
    "    val bikeStations = repository.fetchBikeShareInfo(\"galway\")\n",
    "    bikeStations.toDataFrame()\n",
    " }"
   ],
   "metadata": {
    "collapsed": false,
    "ExecuteTime": {
     "end_time": "2024-02-27T15:47:30.149961Z",
     "start_time": "2024-02-27T15:47:00.673932Z"
    }
   }
  },
  {
   "cell_type": "code",
   "execution_count": 2,
   "outputs": [],
   "source": [],
   "metadata": {
    "collapsed": false,
    "ExecuteTime": {
     "end_time": "2024-02-27T15:47:30.161896Z",
     "start_time": "2024-02-27T15:47:30.152890Z"
    }
   }
  },
  {
   "cell_type": "code",
   "execution_count": 3,
   "outputs": [],
   "source": [],
   "metadata": {
    "collapsed": false,
    "ExecuteTime": {
     "end_time": "2024-02-27T15:47:30.167449Z",
     "start_time": "2024-02-27T15:47:30.165970Z"
    }
   }
  }
 ],
 "metadata": {
  "kernelspec": {
   "display_name": "Kotlin",
   "language": "kotlin",
   "name": "kotlin"
  },
  "language_info": {
   "name": "kotlin",
   "version": "1.8.20",
   "mimetype": "text/x-kotlin",
   "file_extension": ".kt",
   "pygments_lexer": "kotlin",
   "codemirror_mode": "text/x-kotlin",
   "nbconvert_exporter": ""
  },
  "ktnbPluginMetadata": {
   "projectLibraries": [],
   "projectDependencies": [
    "BikeShare.common.androidTest",
    "BikeShare.common.commonMain",
    "BikeShare.common.iOSMain",
    "BikeShare.common.jvmMain",
    "BikeShare.common.macOSMain",
    "BikeShare.common.main",
    "BikeShare.common.mobileMain",
    "BikeShare.common.unitTest",
    "BikeShare.common.wasmMain",
    "BikeShare.common.wasmTest"
   ]
  }
 },
 "nbformat": 4,
 "nbformat_minor": 0
}
